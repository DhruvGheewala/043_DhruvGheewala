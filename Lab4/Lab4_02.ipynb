{
  "nbformat": 4,
  "nbformat_minor": 0,
  "metadata": {
    "colab": {
      "name": "Lab4_02.ipynb",
      "provenance": [],
      "authorship_tag": "ABX9TyML0lU+DJNSNFezxnbMyYgU",
      "include_colab_link": true
    },
    "kernelspec": {
      "name": "python3",
      "display_name": "Python 3"
    },
    "language_info": {
      "name": "python"
    }
  },
  "cells": [
    {
      "cell_type": "markdown",
      "metadata": {
        "id": "view-in-github",
        "colab_type": "text"
      },
      "source": [
        "<a href=\"https://colab.research.google.com/github/DhruvGheewala/043_DhruvGheewala/blob/master/Lab4/Lab4_02.ipynb\" target=\"_parent\"><img src=\"https://colab.research.google.com/assets/colab-badge.svg\" alt=\"Open In Colab\"/></a>"
      ]
    },
    {
      "cell_type": "code",
      "metadata": {
        "id": "4KwOK6ngfKfw"
      },
      "source": [
        "import pandas as pd\n",
        "import numpy as np\n",
        "from sklearn import datasets\n",
        "from sklearn.tree import DecisionTreeClassifier"
      ],
      "execution_count": 5,
      "outputs": []
    },
    {
      "cell_type": "code",
      "metadata": {
        "colab": {
          "base_uri": "https://localhost:8080/"
        },
        "id": "GHJ_m1QxkJLG",
        "outputId": "4108d7ee-bf8c-44a6-c984-968eff965eee"
      },
      "source": [
        "# Load dataset\n",
        "digits = datasets.load_digits()\n",
        "print(digits)\n",
        "print(digits.data.shape)\n",
        "print(digits.target.shape)"
      ],
      "execution_count": 6,
      "outputs": [
        {
          "output_type": "stream",
          "name": "stdout",
          "text": [
            "{'data': array([[ 0.,  0.,  5., ...,  0.,  0.,  0.],\n",
            "       [ 0.,  0.,  0., ..., 10.,  0.,  0.],\n",
            "       [ 0.,  0.,  0., ..., 16.,  9.,  0.],\n",
            "       ...,\n",
            "       [ 0.,  0.,  1., ...,  6.,  0.,  0.],\n",
            "       [ 0.,  0.,  2., ..., 12.,  0.,  0.],\n",
            "       [ 0.,  0., 10., ..., 12.,  1.,  0.]]), 'target': array([0, 1, 2, ..., 8, 9, 8]), 'target_names': array([0, 1, 2, 3, 4, 5, 6, 7, 8, 9]), 'images': array([[[ 0.,  0.,  5., ...,  1.,  0.,  0.],\n",
            "        [ 0.,  0., 13., ..., 15.,  5.,  0.],\n",
            "        [ 0.,  3., 15., ..., 11.,  8.,  0.],\n",
            "        ...,\n",
            "        [ 0.,  4., 11., ..., 12.,  7.,  0.],\n",
            "        [ 0.,  2., 14., ..., 12.,  0.,  0.],\n",
            "        [ 0.,  0.,  6., ...,  0.,  0.,  0.]],\n",
            "\n",
            "       [[ 0.,  0.,  0., ...,  5.,  0.,  0.],\n",
            "        [ 0.,  0.,  0., ...,  9.,  0.,  0.],\n",
            "        [ 0.,  0.,  3., ...,  6.,  0.,  0.],\n",
            "        ...,\n",
            "        [ 0.,  0.,  1., ...,  6.,  0.,  0.],\n",
            "        [ 0.,  0.,  1., ...,  6.,  0.,  0.],\n",
            "        [ 0.,  0.,  0., ..., 10.,  0.,  0.]],\n",
            "\n",
            "       [[ 0.,  0.,  0., ..., 12.,  0.,  0.],\n",
            "        [ 0.,  0.,  3., ..., 14.,  0.,  0.],\n",
            "        [ 0.,  0.,  8., ..., 16.,  0.,  0.],\n",
            "        ...,\n",
            "        [ 0.,  9., 16., ...,  0.,  0.,  0.],\n",
            "        [ 0.,  3., 13., ..., 11.,  5.,  0.],\n",
            "        [ 0.,  0.,  0., ..., 16.,  9.,  0.]],\n",
            "\n",
            "       ...,\n",
            "\n",
            "       [[ 0.,  0.,  1., ...,  1.,  0.,  0.],\n",
            "        [ 0.,  0., 13., ...,  2.,  1.,  0.],\n",
            "        [ 0.,  0., 16., ..., 16.,  5.,  0.],\n",
            "        ...,\n",
            "        [ 0.,  0., 16., ..., 15.,  0.,  0.],\n",
            "        [ 0.,  0., 15., ..., 16.,  0.,  0.],\n",
            "        [ 0.,  0.,  2., ...,  6.,  0.,  0.]],\n",
            "\n",
            "       [[ 0.,  0.,  2., ...,  0.,  0.,  0.],\n",
            "        [ 0.,  0., 14., ..., 15.,  1.,  0.],\n",
            "        [ 0.,  4., 16., ..., 16.,  7.,  0.],\n",
            "        ...,\n",
            "        [ 0.,  0.,  0., ..., 16.,  2.,  0.],\n",
            "        [ 0.,  0.,  4., ..., 16.,  2.,  0.],\n",
            "        [ 0.,  0.,  5., ..., 12.,  0.,  0.]],\n",
            "\n",
            "       [[ 0.,  0., 10., ...,  1.,  0.,  0.],\n",
            "        [ 0.,  2., 16., ...,  1.,  0.,  0.],\n",
            "        [ 0.,  0., 15., ..., 15.,  0.,  0.],\n",
            "        ...,\n",
            "        [ 0.,  4., 16., ..., 16.,  6.,  0.],\n",
            "        [ 0.,  8., 16., ..., 16.,  8.,  0.],\n",
            "        [ 0.,  1.,  8., ..., 12.,  1.,  0.]]]), 'DESCR': \".. _digits_dataset:\\n\\nOptical recognition of handwritten digits dataset\\n--------------------------------------------------\\n\\n**Data Set Characteristics:**\\n\\n    :Number of Instances: 5620\\n    :Number of Attributes: 64\\n    :Attribute Information: 8x8 image of integer pixels in the range 0..16.\\n    :Missing Attribute Values: None\\n    :Creator: E. Alpaydin (alpaydin '@' boun.edu.tr)\\n    :Date: July; 1998\\n\\nThis is a copy of the test set of the UCI ML hand-written digits datasets\\nhttps://archive.ics.uci.edu/ml/datasets/Optical+Recognition+of+Handwritten+Digits\\n\\nThe data set contains images of hand-written digits: 10 classes where\\neach class refers to a digit.\\n\\nPreprocessing programs made available by NIST were used to extract\\nnormalized bitmaps of handwritten digits from a preprinted form. From a\\ntotal of 43 people, 30 contributed to the training set and different 13\\nto the test set. 32x32 bitmaps are divided into nonoverlapping blocks of\\n4x4 and the number of on pixels are counted in each block. This generates\\nan input matrix of 8x8 where each element is an integer in the range\\n0..16. This reduces dimensionality and gives invariance to small\\ndistortions.\\n\\nFor info on NIST preprocessing routines, see M. D. Garris, J. L. Blue, G.\\nT. Candela, D. L. Dimmick, J. Geist, P. J. Grother, S. A. Janet, and C.\\nL. Wilson, NIST Form-Based Handprint Recognition System, NISTIR 5469,\\n1994.\\n\\n.. topic:: References\\n\\n  - C. Kaynak (1995) Methods of Combining Multiple Classifiers and Their\\n    Applications to Handwritten Digit Recognition, MSc Thesis, Institute of\\n    Graduate Studies in Science and Engineering, Bogazici University.\\n  - E. Alpaydin, C. Kaynak (1998) Cascading Classifiers, Kybernetika.\\n  - Ken Tang and Ponnuthurai N. Suganthan and Xi Yao and A. Kai Qin.\\n    Linear dimensionalityreduction using relevance weighted LDA. School of\\n    Electrical and Electronic Engineering Nanyang Technological University.\\n    2005.\\n  - Claudio Gentile. A New Approximate Maximal Margin Classification\\n    Algorithm. NIPS. 2000.\"}\n",
            "(1797, 64)\n",
            "(1797,)\n"
          ]
        }
      ]
    },
    {
      "cell_type": "code",
      "metadata": {
        "id": "RiT6ODKtkLBX"
      },
      "source": [
        "# import the necessary module\n",
        "from sklearn import metrics\n",
        "from sklearn.model_selection import train_test_split"
      ],
      "execution_count": 7,
      "outputs": []
    },
    {
      "cell_type": "code",
      "metadata": {
        "colab": {
          "base_uri": "https://localhost:8080/"
        },
        "id": "CJaQ7l-EkNOW",
        "outputId": "26d11472-03b0-4adc-e90c-82075f9a33e4"
      },
      "source": [
        "X = digits.data\n",
        "Y = digits.target\n",
        "\n",
        "# split data set into train and test sets\n",
        "X_train, X_test, y_train, y_test = train_test_split(X, Y, test_size = 0.35, random_state = 100)\n",
        "\n",
        "# Create a Decision Tree Classifier (using Gini)\n",
        "clf_gini = DecisionTreeClassifier(criterion = \"gini\", random_state = 26, max_depth = 7, min_samples_leaf = 26)\n",
        "clf_gini.fit(X_train, y_train)\n",
        "\n",
        "# Predict the classes of test data\n",
        "y_pred = clf_gini.predict(X_test)\n",
        "print(\"Predicted values: \", y_pred)\n",
        "\n",
        "# Model Accuracy\n",
        "print(\"Confusion Matrix: \", metrics.confusion_matrix(y_test, y_pred))\n",
        "print (\"Accuracy: \", metrics.accuracy_score(y_test,y_pred) * 100)\n",
        "print(\"Report: \", metrics.classification_report(y_test, y_pred))"
      ],
      "execution_count": 8,
      "outputs": [
        {
          "output_type": "stream",
          "name": "stdout",
          "text": [
            "Predicted values:  [9 9 0 2 4 5 7 4 9 2 4 5 7 5 9 6 1 9 5 6 8 7 6 6 6 4 0 2 4 3 0 9 3 9 9 5 3\n",
            " 6 3 6 1 1 5 2 0 4 8 9 7 4 9 5 5 1 4 8 9 7 3 9 6 2 5 4 2 6 3 6 6 6 8 1 6 0\n",
            " 6 6 2 9 0 2 2 3 3 1 1 4 8 5 0 1 1 7 0 0 8 1 4 0 7 5 1 0 9 3 4 5 7 1 1 5 5\n",
            " 2 1 3 2 0 9 4 7 3 2 1 3 6 0 7 0 7 5 0 7 6 0 2 8 6 0 7 4 2 9 5 0 8 9 0 8 0\n",
            " 3 6 8 4 4 8 8 9 0 0 1 2 2 7 9 9 1 9 1 5 3 4 2 0 6 9 9 1 0 0 7 4 4 1 3 9 5\n",
            " 3 4 9 2 2 2 1 4 7 2 7 1 0 1 3 8 6 9 9 0 3 1 9 3 8 0 6 8 6 2 9 2 2 6 6 1 4\n",
            " 1 2 3 0 7 1 7 2 1 1 0 9 0 5 0 7 7 7 0 2 7 0 8 2 2 7 3 4 0 2 1 5 1 2 4 7 0\n",
            " 5 9 3 9 2 2 0 4 7 9 4 0 2 1 8 7 0 9 1 0 7 9 6 0 5 0 9 6 7 7 1 2 4 1 0 1 1\n",
            " 9 6 1 1 7 9 9 7 8 2 1 0 2 5 9 6 9 3 9 0 7 3 0 7 8 4 5 4 4 4 8 4 0 6 6 7 5\n",
            " 4 5 1 6 2 4 3 9 7 9 4 7 8 1 9 2 5 4 6 6 3 4 4 7 6 7 3 3 4 4 1 6 1 2 0 8 3\n",
            " 5 8 4 1 6 4 8 7 7 4 5 8 9 4 4 3 2 7 7 3 4 9 3 5 7 4 2 9 1 8 8 5 1 8 0 8 2\n",
            " 1 6 2 5 1 4 9 2 4 9 2 4 0 7 7 7 2 4 0 9 3 8 0 9 9 8 4 0 4 0 0 1 4 1 4 0 8\n",
            " 6 6 4 4 9 4 3 6 1 1 1 9 7 1 1 5 1 7 7 0 5 9 1 9 6 3 0 1 5 2 9 1 0 0 7 9 3\n",
            " 6 0 1 3 6 7 8 7 7 1 5 3 9 5 9 2 4 4 2 0 9 2 6 9 5 8 2 6 0 5 4 4 2 9 9 6 3\n",
            " 2 5 9 8 8 0 6 2 5 6 1 0 5 6 8 3 9 1 2 1 9 7 7 0 4 3 1 3 7 9 6 7 9 7 1 2 3\n",
            " 3 0 9 7 3 6 1 2 1 9 9 2 7 5 0 7 5 1 4 9 7 0 2 2 4 6 5 7 0 0 6 9 2 4 9 9 1\n",
            " 9 0 7 0 7 9 8 5 7 8 3 1 1 2 2 4 9 4 9 0 9 1 9 8 1 6 2 9 0 0 0 1 4 4 5 3 7]\n",
            "Confusion Matrix:  [[66  1  1  0  0  0  0  0  1  1]\n",
            " [ 0 42  2  0  3  0  0  2  2 10]\n",
            " [ 1  9 49  5  2  0  3  0  0  0]\n",
            " [ 0  0  6 38  0  0  0  6  3  6]\n",
            " [ 2 13  0  0 52  0  0  0  0  2]\n",
            " [ 3  1  0  0  1 47  0  0  0 12]\n",
            " [ 3  4  0  0  5  0 52  0  0  0]\n",
            " [ 0  1  0  0  4  0  0 50  0  1]\n",
            " [ 1  5  3  1  3  0  0  2 32  6]\n",
            " [ 1  0  4  3  0  0  0  8  2 46]]\n",
            "Accuracy:  75.3577106518283\n",
            "Report:                precision    recall  f1-score   support\n",
            "\n",
            "           0       0.86      0.94      0.90        70\n",
            "           1       0.55      0.69      0.61        61\n",
            "           2       0.75      0.71      0.73        69\n",
            "           3       0.81      0.64      0.72        59\n",
            "           4       0.74      0.75      0.75        69\n",
            "           5       1.00      0.73      0.85        64\n",
            "           6       0.95      0.81      0.87        64\n",
            "           7       0.74      0.89      0.81        56\n",
            "           8       0.80      0.60      0.69        53\n",
            "           9       0.55      0.72      0.62        64\n",
            "\n",
            "    accuracy                           0.75       629\n",
            "   macro avg       0.77      0.75      0.75       629\n",
            "weighted avg       0.78      0.75      0.76       629\n",
            "\n"
          ]
        }
      ]
    }
  ]
}