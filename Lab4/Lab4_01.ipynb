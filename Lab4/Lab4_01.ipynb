{
  "nbformat": 4,
  "nbformat_minor": 0,
  "metadata": {
    "colab": {
      "name": "Lab4_01.ipynb",
      "provenance": [],
      "authorship_tag": "ABX9TyP/+xUretlK2kIJEyF6CB2o",
      "include_colab_link": true
    },
    "kernelspec": {
      "name": "python3",
      "display_name": "Python 3"
    },
    "language_info": {
      "name": "python"
    }
  },
  "cells": [
    {
      "cell_type": "markdown",
      "metadata": {
        "id": "view-in-github",
        "colab_type": "text"
      },
      "source": [
        "<a href=\"https://colab.research.google.com/github/DhruvGheewala/043_DhruvGheewala/blob/master/Lab4/Lab4_01.ipynb\" target=\"_parent\"><img src=\"https://colab.research.google.com/assets/colab-badge.svg\" alt=\"Open In Colab\"/></a>"
      ]
    },
    {
      "cell_type": "code",
      "metadata": {
        "id": "Uo-Ul3znbsa6"
      },
      "source": [
        "import pandas as pd\n",
        "import numpy as np\n",
        "from sklearn import preprocessing\n",
        "from sklearn import datasets\n",
        "from sklearn.tree import DecisionTreeClassifier"
      ],
      "execution_count": 5,
      "outputs": []
    },
    {
      "cell_type": "code",
      "metadata": {
        "colab": {
          "base_uri": "https://localhost:8080/"
        },
        "id": "9zh8akQSejvS",
        "outputId": "4c17e489-443d-4965-ae26-0bc3cbe22668"
      },
      "source": [
        "# Predictor variables\n",
        "Outlook = ['Rainy', 'Rainy', 'Overcast', 'Sunny', 'Sunny', 'Sunny', 'Overcast', 'Rainy', 'Rainy', 'Sunny', 'Rainy', 'Overcast', 'Overcast', 'Sunny']\n",
        "Temperature = ['Hot', 'Hot', 'Hot', 'Mild', 'Cool', 'Cool', 'Cool', 'Mild', 'Cool', 'Mild', 'Mild', 'Mild', 'Hot', 'Mild']\n",
        "Humidity = ['High', 'High', 'High', 'High', 'Normal', 'Normal', 'Normal', 'High', 'Normal', 'Normal', 'Normal', 'High', 'Normal', 'High']\n",
        "Wind = ['False', 'True', 'False', 'False', 'False', 'True', 'True', 'False', 'False', 'False', 'True', 'True', 'False', 'True']\n",
        "\n",
        "# Class Label\n",
        "Play = ['No', 'No', 'Yes', 'Yes', 'Yes', 'No', 'Yes', 'No', 'Yes', 'Yes', 'Yes', 'Yes', 'Yes', 'No']\n",
        "\n",
        "le = preprocessing.LabelEncoder()\n",
        "outlook_encoded = le.fit_transform(Outlook)\n",
        "outlook_name_mapping = dict(zip(le.classes_, le.transform(le.classes_)))\n",
        "print(\"Outllok mapping: \", outlook_name_mapping)\n",
        "\n",
        "temperature_encoded = le.fit_transform(Temperature)\n",
        "temperature_name_mapping = dict(zip(le.classes_, le.transform(le.classes_)))\n",
        "print(\"Temperature mapping: \", temperature_name_mapping)\n",
        "\n",
        "humidity_encoded = le.fit_transform(Humidity)\n",
        "humidity_name_mapping = dict(zip(le.classes_, le.transform(le.classes_)))\n",
        "print(\"Humidity mapping: \", humidity_name_mapping)\n",
        "\n",
        "wind_encoded = le.fit_transform(Wind)\n",
        "wind_name_mapping = dict(zip(le.classes_, le.transform(le.classes_)))\n",
        "print(\"Wind mapping: \", wind_name_mapping)\n",
        "\n",
        "play_encoded = le.fit_transform(Play)\n",
        "play_name_mapping = dict(zip(le.classes_, le.transform(le.classes_)))\n",
        "print(\"Play mapping: \", play_name_mapping)\n",
        "\n",
        "print(\"Weather: \", outlook_encoded)\n",
        "print(\"Temerature: \", temperature_encoded)\n",
        "print(\"Humidity: \", humidity_encoded)\n",
        "print(\"Wind: \", wind_encoded)\n",
        "print(\"Play: \", play_encoded)\n",
        "\n",
        "weather = pd.DataFrame(outlook_encoded, columns = ['Outlook'])\n",
        "weather['Temperature'] = pd.DataFrame(temperature_encoded, columns = ['Temperature'])\n",
        "weather['Humidity'] = pd.DataFrame(humidity_encoded, columns = ['Humidity'])\n",
        "weather['Wind'] = pd.DataFrame(wind_encoded, columns = ['Wind'])\n",
        "weather['Play'] = pd.DataFrame(play_encoded, columns = ['Play'])\n",
        "print(weather)"
      ],
      "execution_count": 6,
      "outputs": [
        {
          "output_type": "stream",
          "name": "stdout",
          "text": [
            "Outllok mapping:  {'Overcast': 0, 'Rainy': 1, 'Sunny': 2}\n",
            "Temperature mapping:  {'Cool': 0, 'Hot': 1, 'Mild': 2}\n",
            "Humidity mapping:  {'High': 0, 'Normal': 1}\n",
            "Wind mapping:  {'False': 0, 'True': 1}\n",
            "Play mapping:  {'No': 0, 'Yes': 1}\n",
            "Weather:  [1 1 0 2 2 2 0 1 1 2 1 0 0 2]\n",
            "Temerature:  [1 1 1 2 0 0 0 2 0 2 2 2 1 2]\n",
            "Humidity:  [0 0 0 0 1 1 1 0 1 1 1 0 1 0]\n",
            "Wind:  [0 1 0 0 0 1 1 0 0 0 1 1 0 1]\n",
            "Play:  [0 0 1 1 1 0 1 0 1 1 1 1 1 0]\n",
            "    Outlook  Temperature  Humidity  Wind  Play\n",
            "0         1            1         0     0     0\n",
            "1         1            1         0     1     0\n",
            "2         0            1         0     0     1\n",
            "3         2            2         0     0     1\n",
            "4         2            0         1     0     1\n",
            "5         2            0         1     1     0\n",
            "6         0            0         1     1     1\n",
            "7         1            2         0     0     0\n",
            "8         1            0         1     0     1\n",
            "9         2            2         1     0     1\n",
            "10        1            2         1     1     1\n",
            "11        0            2         0     1     1\n",
            "12        0            1         1     0     1\n",
            "13        2            2         0     1     0\n"
          ]
        }
      ]
    },
    {
      "cell_type": "code",
      "metadata": {
        "id": "ZFoiEQsZethZ"
      },
      "source": [
        "from sklearn.model_selection import train_test_split\n",
        "from sklearn import metrics"
      ],
      "execution_count": 3,
      "outputs": []
    },
    {
      "cell_type": "code",
      "metadata": {
        "colab": {
          "base_uri": "https://localhost:8080/"
        },
        "id": "5eRufE2Seoe4",
        "outputId": "752c95b7-33a7-4e77-b544-f0960d4aed90"
      },
      "source": [
        "X = weather.values[:, 0:4]\n",
        "Y = weather.values[:, -1]\n",
        "X_train, X_test, y_train, y_test = train_test_split(X, Y, test_size = 0.2, random_state = 100)\n",
        "\n",
        "# Create a Decision Tree Classifier (using Gini)\n",
        "clf_gini = DecisionTreeClassifier(criterion = \"gini\", random_state = 26, max_depth = 7, min_samples_leaf = 26)\n",
        "clf_gini.fit(X_train, y_train)\n",
        "\n",
        "# Predict the classes of test data\n",
        "y_pred = clf_gini.predict(X_test)\n",
        "print(\"Predicted values: \", y_pred)\n",
        "\n",
        "# Model Accuracy\n",
        "print(\"Confusion Matrix: \", metrics.confusion_matrix(y_test, y_pred))\n",
        "print (\"Accuracy : \", metrics.accuracy_score(y_test,y_pred) * 100)\n",
        "print(\"Report : \", metrics.classification_report(y_test, y_pred))"
      ],
      "execution_count": 4,
      "outputs": [
        {
          "output_type": "stream",
          "name": "stdout",
          "text": [
            "Predicted values:  [1 1 1]\n",
            "Confusion Matrix:  [[0 1]\n",
            " [0 2]]\n",
            "Accuracy :  66.66666666666666\n",
            "Report :                precision    recall  f1-score   support\n",
            "\n",
            "           0       0.00      0.00      0.00         1\n",
            "           1       0.67      1.00      0.80         2\n",
            "\n",
            "    accuracy                           0.67         3\n",
            "   macro avg       0.33      0.50      0.40         3\n",
            "weighted avg       0.44      0.67      0.53         3\n",
            "\n"
          ]
        },
        {
          "output_type": "stream",
          "name": "stderr",
          "text": [
            "/usr/local/lib/python3.7/dist-packages/sklearn/metrics/_classification.py:1272: UndefinedMetricWarning: Precision and F-score are ill-defined and being set to 0.0 in labels with no predicted samples. Use `zero_division` parameter to control this behavior.\n",
            "  _warn_prf(average, modifier, msg_start, len(result))\n"
          ]
        }
      ]
    }
  ]
}