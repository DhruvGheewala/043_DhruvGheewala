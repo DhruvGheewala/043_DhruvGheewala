{
  "nbformat": 4,
  "nbformat_minor": 0,
  "metadata": {
    "colab": {
      "name": "Untitled2.ipynb",
      "provenance": [],
      "authorship_tag": "ABX9TyNhT0x92wbCaFMuQuffKDkF",
      "include_colab_link": true
    },
    "kernelspec": {
      "name": "python3",
      "display_name": "Python 3"
    },
    "language_info": {
      "name": "python"
    }
  },
  "cells": [
    {
      "cell_type": "markdown",
      "metadata": {
        "id": "view-in-github",
        "colab_type": "text"
      },
      "source": [
        "<a href=\"https://colab.research.google.com/github/DhruvGheewala/043_DhruvGheewala/blob/master/Lab1/Lab1_03.ipynb\" target=\"_parent\"><img src=\"https://colab.research.google.com/assets/colab-badge.svg\" alt=\"Open In Colab\"/></a>"
      ]
    },
    {
      "cell_type": "code",
      "metadata": {
        "id": "evCMAGW-CQBg"
      },
      "source": [
        "import numpy as np"
      ],
      "execution_count": 9,
      "outputs": []
    },
    {
      "cell_type": "code",
      "metadata": {
        "colab": {
          "base_uri": "https://localhost:8080/"
        },
        "id": "ndymJyCgFl74",
        "outputId": "5e4c26cc-5f14-4c90-f204-ea36c7c8c6b7"
      },
      "source": [
        "li = [1, 2, 3, 4, 5]\n",
        "array = np.array([1, 2, 3, 4])\n",
        "\n",
        "print(li)\n",
        "print(array)\n",
        "print(type(li))\n",
        "print(type(array))\n",
        "\n",
        "print(array + array)\n",
        "print(li + li)\n",
        "\n",
        "print(array * 3)\n",
        "print(li * 3)"
      ],
      "execution_count": 10,
      "outputs": [
        {
          "output_type": "stream",
          "name": "stdout",
          "text": [
            "[1, 2, 3, 4, 5]\n",
            "[1 2 3 4]\n",
            "<class 'list'>\n",
            "<class 'numpy.ndarray'>\n",
            "[2 4 6 8]\n",
            "[1, 2, 3, 4, 5, 1, 2, 3, 4, 5]\n",
            "[ 3  6  9 12]\n",
            "[1, 2, 3, 4, 5, 1, 2, 3, 4, 5, 1, 2, 3, 4, 5]\n"
          ]
        }
      ]
    },
    {
      "cell_type": "code",
      "metadata": {
        "colab": {
          "base_uri": "https://localhost:8080/"
        },
        "id": "swRLiCM2FqTb",
        "outputId": "0a8b7fc8-2e40-451f-f7de-cefabcbf0bbe"
      },
      "source": [
        "mat1 = np.array([array, array, array])\n",
        "mat2 = np.array([li, li, li])\n",
        "mat3 = np.array([array, li, li])\n",
        "\n",
        "print(mat1)\n",
        "print(mat2)\n",
        "print(mat3)"
      ],
      "execution_count": 11,
      "outputs": [
        {
          "output_type": "stream",
          "name": "stdout",
          "text": [
            "[[1 2 3 4]\n",
            " [1 2 3 4]\n",
            " [1 2 3 4]]\n",
            "[[1 2 3 4 5]\n",
            " [1 2 3 4 5]\n",
            " [1 2 3 4 5]]\n",
            "[array([1, 2, 3, 4]) list([1, 2, 3, 4, 5]) list([1, 2, 3, 4, 5])]\n"
          ]
        },
        {
          "output_type": "stream",
          "name": "stderr",
          "text": [
            "/usr/local/lib/python3.7/dist-packages/ipykernel_launcher.py:3: VisibleDeprecationWarning: Creating an ndarray from ragged nested sequences (which is a list-or-tuple of lists-or-tuples-or ndarrays with different lengths or shapes) is deprecated. If you meant to do this, you must specify 'dtype=object' when creating the ndarray\n",
            "  This is separate from the ipykernel package so we can avoid doing imports until\n"
          ]
        }
      ]
    },
    {
      "cell_type": "code",
      "metadata": {
        "colab": {
          "base_uri": "https://localhost:8080/"
        },
        "id": "2SMc1RSeFuI0",
        "outputId": "9f7da876-9de8-46ea-954a-93f753182414"
      },
      "source": [
        "goodMat = np.array([[1, 2], [3, 4]])\n",
        "print(goodMat)\n",
        "print(goodMat * 2) # scaled version of goodMat\n",
        "\n",
        "badMat = np.array([[1, 2, 3], [4, 5, 6], [7, 8]])\n",
        "print(badMat) # malformed matrix\n",
        "print(badMat * 2) # It is supposed to scale the whole matrix\n",
        "\n",
        "result = goodMat * 2 + 1\n",
        "print(result)\n",
        "\n",
        "# Add two sum compatible matrices\n",
        "print(goodMat + goodMat)\n",
        "\n",
        "# difference vector\n",
        "print(goodMat - goodMat)\n",
        "\n",
        "# Multiply each element by itself\n",
        "print(goodMat * goodMat)"
      ],
      "execution_count": 12,
      "outputs": [
        {
          "output_type": "stream",
          "name": "stdout",
          "text": [
            "[[1 2]\n",
            " [3 4]]\n",
            "[[2 4]\n",
            " [6 8]]\n",
            "[list([1, 2, 3]) list([4, 5, 6]) list([7, 8])]\n",
            "[list([1, 2, 3, 1, 2, 3]) list([4, 5, 6, 4, 5, 6]) list([7, 8, 7, 8])]\n",
            "[[3 5]\n",
            " [7 9]]\n",
            "[[2 4]\n",
            " [6 8]]\n",
            "[[0 0]\n",
            " [0 0]]\n",
            "[[ 1  4]\n",
            " [ 9 16]]\n"
          ]
        },
        {
          "output_type": "stream",
          "name": "stderr",
          "text": [
            "/usr/local/lib/python3.7/dist-packages/ipykernel_launcher.py:5: VisibleDeprecationWarning: Creating an ndarray from ragged nested sequences (which is a list-or-tuple of lists-or-tuples-or ndarrays with different lengths or shapes) is deprecated. If you meant to do this, you must specify 'dtype=object' when creating the ndarray\n",
            "  \"\"\"\n"
          ]
        }
      ]
    },
    {
      "cell_type": "code",
      "metadata": {
        "colab": {
          "base_uri": "https://localhost:8080/"
        },
        "id": "YJc0RJIwF1Q2",
        "outputId": "da2f035d-8033-439e-98d0-f396a6ce4941"
      },
      "source": [
        "mat = np.array([[1, 2], [3, 4], [5, 6]])\n",
        "\n",
        "print('Original matrix 3 x 2')\n",
        "print(mat)\n",
        "\n",
        "print('Transposed matrix 2 x 3')\n",
        "print(mat.T)\n",
        "\n",
        "arr = np.array([1, 2, 3, 4])\n",
        "print('Original array')\n",
        "print(arr)\n",
        "print('Transposed array')\n",
        "print(arr.T)\n",
        "\n",
        "arr = np.array([[1, 2, 3, 4]])\n",
        "print('Original array')\n",
        "print(arr)\n",
        "print('Transposed array')\n",
        "print(arr.T)\n",
        "\n",
        "arr1 = np.array([1, 2, 3, 4])\n",
        "norm1 = np.linalg.norm(arr1)\n",
        "print(norm1)\n",
        "\n",
        "arr2 = np.array([[1, 2], [3, 4]])\n",
        "norm2 = np.linalg.norm(arr2)\n",
        "print(norm2)\n",
        "\n",
        "arr2 = np.array([[1, 1], [2, 2], [3, 3]])\n",
        "normByCols = np.linalg.norm(arr2, axis = 0)\n",
        "print(normByCols)\n",
        "\n",
        "normByRows = np.linalg.norm(arr2, axis = 1)\n",
        "print(normByRows)\n",
        "\n",
        "arr1 = np.array([1, 2, 3, 4])\n",
        "arr2 = np.array([5, 6, 7, 8])\n",
        "\n",
        "flavor1 = np.dot(arr1, arr2)\n",
        "print(flavor1)\n",
        "\n",
        "flavor2 = np.sum(arr1 * arr2)\n",
        "print(flavor2)\n",
        "\n",
        "flavor3 = arr1 @ arr2\n",
        "print(flavor3)\n",
        "\n",
        "flavor4 = 0\n",
        "for a, b in zip(arr1, arr2):\n",
        "    flavor4 += a * b\n",
        "print(flavor4)"
      ],
      "execution_count": 13,
      "outputs": [
        {
          "output_type": "stream",
          "name": "stdout",
          "text": [
            "Original matrix 3 x 2\n",
            "[[1 2]\n",
            " [3 4]\n",
            " [5 6]]\n",
            "Transposed matrix 2 x 3\n",
            "[[1 3 5]\n",
            " [2 4 6]]\n",
            "Original array\n",
            "[1 2 3 4]\n",
            "Transposed array\n",
            "[1 2 3 4]\n",
            "Original array\n",
            "[[1 2 3 4]]\n",
            "Transposed array\n",
            "[[1]\n",
            " [2]\n",
            " [3]\n",
            " [4]]\n",
            "5.477225575051661\n",
            "5.477225575051661\n",
            "[3.74165739 3.74165739]\n",
            "[1.41421356 2.82842712 4.24264069]\n",
            "70\n",
            "70\n",
            "70\n",
            "70\n"
          ]
        }
      ]
    },
    {
      "cell_type": "code",
      "metadata": {
        "colab": {
          "base_uri": "https://localhost:8080/"
        },
        "id": "edFFgx_VGBdN",
        "outputId": "a86af233-c87e-4241-a678-f356cbab67e7"
      },
      "source": [
        "norm1 = np.dot(np.array([1, 2]), np.array([3, 4]))\n",
        "norm2 = np.dot([1, 2], [3, 4])\n",
        "print(norm1, '=', norm2 )\n",
        "\n",
        "arr2 = np.array([[1, -1], [2, -2], [3, -3]])\n",
        "sumByCols = np.sum(arr2, axis = 0)\n",
        "print('Sum by columns: ')\n",
        "print(sumByCols)\n",
        "\n",
        "sumByRows = np.sum(arr2, axis = 1)\n",
        "print('Sum by rows:')\n",
        "print(sumByRows)\n",
        "\n",
        "arr2 = np.array([[1, -1], [2, -2], [3, -3]])\n",
        "\n",
        "mean = np.mean(arr2)\n",
        "print('Matrix mean: ')\n",
        "print(mean)\n",
        "\n",
        "meanByCols = np.mean(arr2, axis = 0)\n",
        "print('Mean by columns: ')\n",
        "print(meanByCols)\n",
        "\n",
        "meanByRows = np.mean(arr2, axis = 1)\n",
        "print('Mean by rows:')\n",
        "print(meanByRows)"
      ],
      "execution_count": 14,
      "outputs": [
        {
          "output_type": "stream",
          "name": "stdout",
          "text": [
            "11 = 11\n",
            "Sum by columns: \n",
            "[ 6 -6]\n",
            "Sum by rows:\n",
            "[0 0 0]\n",
            "Matrix mean: \n",
            "0.0\n",
            "Mean by columns: \n",
            "[ 2. -2.]\n",
            "Mean by rows:\n",
            "[0. 0. 0.]\n"
          ]
        }
      ]
    },
    {
      "cell_type": "code",
      "metadata": {
        "colab": {
          "base_uri": "https://localhost:8080/"
        },
        "id": "XBXUOKvzGLS0",
        "outputId": "a22ee5dd-910f-4ccf-aef8-1e817ce42968"
      },
      "source": [
        "arr2 = np.array([[1, 1], [2, 2], [3, 3]])\n",
        "nparrayCentered = arr2 - np.mean(arr2, axis = 0)\n",
        "\n",
        "print('Original matrix')\n",
        "print(arr2)\n",
        "\n",
        "print('Centered by columns matrix')\n",
        "print(nparrayCentered)\n",
        "\n",
        "print('New mean by column')\n",
        "print(nparrayCentered.mean(axis=0))\n",
        "\n",
        "arr2 = np.array([[1, 3], [2, 4], [3, 5]])\n",
        "nparrayCentered = arr2.T - np.mean(arr2, axis = 1)\n",
        "nparrayCentered = nparrayCentered.T\n",
        "\n",
        "print('Original matrix')\n",
        "print(arr2)\n",
        "\n",
        "print('Centered by columns matrix')\n",
        "print(nparrayCentered)\n",
        "\n",
        "print('New mean by rows')\n",
        "print(nparrayCentered.mean(axis = 1))"
      ],
      "execution_count": 15,
      "outputs": [
        {
          "output_type": "stream",
          "name": "stdout",
          "text": [
            "Original matrix\n",
            "[[1 1]\n",
            " [2 2]\n",
            " [3 3]]\n",
            "Centered by columns matrix\n",
            "[[-1. -1.]\n",
            " [ 0.  0.]\n",
            " [ 1.  1.]]\n",
            "New mean by column\n",
            "[0. 0.]\n",
            "Original matrix\n",
            "[[1 3]\n",
            " [2 4]\n",
            " [3 5]]\n",
            "Centered by columns matrix\n",
            "[[-1.  1.]\n",
            " [-1.  1.]\n",
            " [-1.  1.]]\n",
            "New mean by rows\n",
            "[0. 0. 0.]\n"
          ]
        }
      ]
    },
    {
      "cell_type": "code",
      "metadata": {
        "colab": {
          "base_uri": "https://localhost:8080/"
        },
        "id": "yPS5dq4OGSVt",
        "outputId": "98297fed-d392-48c1-8f16-002775a15ebd"
      },
      "source": [
        "npArray3x2 = np.array([[1, 2, 3], [4, 5, 6]])\n",
        "npArray2x3 = np.array([[1, 2], [3, 4], [5, 6]])\n",
        "print(npArray3x2)\n",
        "print(npArray2x3)\n",
        "\n",
        "npArray3x2 = np.random.randint(1, 10, size = [3, 2])\n",
        "npArray2x3 = np.random.randint(1, 10, size = [2, 3])\n",
        "print(npArray3x2)\n",
        "print(npArray2x3)\n",
        "\n",
        "print(np.multiply(npArray3x2, npArray2x3.T))\n",
        "print(np.multiply(npArray3x2.T, npArray2x3))\n",
        "print(np.matmul(npArray2x3, npArray3x2))\n",
        "print(np.matmul(npArray3x2, npArray2x3))\n",
        "print(np.mean(npArray3x2))"
      ],
      "execution_count": 16,
      "outputs": [
        {
          "output_type": "stream",
          "name": "stdout",
          "text": [
            "[[1 2 3]\n",
            " [4 5 6]]\n",
            "[[1 2]\n",
            " [3 4]\n",
            " [5 6]]\n",
            "[[8 7]\n",
            " [9 8]\n",
            " [8 6]]\n",
            "[[3 7 2]\n",
            " [8 2 7]]\n",
            "[[24 56]\n",
            " [63 16]\n",
            " [16 42]]\n",
            "[[24 63 16]\n",
            " [56 16 42]]\n",
            "[[103  89]\n",
            " [138 114]]\n",
            "[[80 70 65]\n",
            " [91 79 74]\n",
            " [72 68 58]]\n",
            "7.666666666666667\n"
          ]
        }
      ]
    }
  ]
}