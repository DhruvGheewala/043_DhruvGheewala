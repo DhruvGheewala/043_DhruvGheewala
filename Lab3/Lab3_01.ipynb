{
  "nbformat": 4,
  "nbformat_minor": 0,
  "metadata": {
    "colab": {
      "name": "Lab3_01.ipynb",
      "provenance": [],
      "collapsed_sections": [],
      "include_colab_link": true
    },
    "kernelspec": {
      "name": "python3",
      "display_name": "Python 3"
    },
    "language_info": {
      "name": "python"
    }
  },
  "cells": [
    {
      "cell_type": "markdown",
      "metadata": {
        "id": "view-in-github",
        "colab_type": "text"
      },
      "source": [
        "<a href=\"https://colab.research.google.com/github/DhruvGheewala/043_DhruvGheewala/blob/master/Lab3/Lab3_01.ipynb\" target=\"_parent\"><img src=\"https://colab.research.google.com/assets/colab-badge.svg\" alt=\"Open In Colab\"/></a>"
      ]
    },
    {
      "cell_type": "code",
      "metadata": {
        "id": "9ky1rrtBZRUM"
      },
      "source": [
        "import numpy as np\n",
        "import pandas as pd\n",
        "from sklearn import preprocessing\n",
        "from sklearn.naive_bayes import GaussianNB, MultinomialNB"
      ],
      "execution_count": 1,
      "outputs": []
    },
    {
      "cell_type": "code",
      "metadata": {
        "id": "YPwNNJX6Uo2c",
        "colab": {
          "base_uri": "https://localhost:8080/"
        },
        "outputId": "71453122-4e4e-489c-8f7a-b561c72ddf9f"
      },
      "source": [
        "from google.colab import drive\n",
        "drive.mount('/content/drive')"
      ],
      "execution_count": 2,
      "outputs": [
        {
          "output_type": "stream",
          "name": "stdout",
          "text": [
            "Mounted at /content/drive\n"
          ]
        }
      ]
    },
    {
      "cell_type": "code",
      "metadata": {
        "id": "6LuNUGN7ZqXW",
        "colab": {
          "base_uri": "https://localhost:8080/"
        },
        "outputId": "acceae0a-866a-442f-8029-36aa2db1c0fa"
      },
      "source": [
        "dataset = pd.read_csv('/content/drive/My Drive/ML/Lab3/Dataset1.csv')\n",
        "print(\"Data: \", dataset)\n",
        "print(\"Data Statistics: \",dataset.describe())"
      ],
      "execution_count": 3,
      "outputs": [
        {
          "output_type": "stream",
          "name": "stdout",
          "text": [
            "Data:     Outlook Temp Humidity Wind Play\n",
            "0        R    H   Normal    F    N\n",
            "1        R    H     High    T    N\n",
            "2        O    H   Normal    F    Y\n",
            "3        S    M   Normal    F    Y\n",
            "4        S    C   Normal    F    Y\n",
            "5        S    C      Low    T    N\n",
            "6        O    C   Normal    T    Y\n",
            "7        R    M   Normal    F    N\n",
            "8        R    C      Low    F    Y\n",
            "9        S    M     High    F    Y\n",
            "10       R    M     High    T    Y\n",
            "11       O    M      Low    T    Y\n",
            "12       O    H   Normal    F    Y\n",
            "13       S    M   Normal    T    N\n",
            "Data Statistics:         Outlook Temp Humidity Wind Play\n",
            "count       14   14       14   14   14\n",
            "unique       3    3        3    2    2\n",
            "top          S    M   Normal    F    Y\n",
            "freq         5    6        8    8    9\n"
          ]
        }
      ]
    },
    {
      "cell_type": "code",
      "metadata": {
        "id": "STozm5tnaE9a",
        "colab": {
          "base_uri": "https://localhost:8080/"
        },
        "outputId": "02c69afe-69ba-431b-c272-113178ee242e"
      },
      "source": [
        "le = preprocessing.LabelEncoder()\n",
        "\n",
        "# Converting string labels into numbers.\n",
        "outlook_encoded=le.fit_transform(dataset['Outlook'])\n",
        "print(\"Outlook:\" ,outlook_encoded)\n",
        "\n",
        "temp_encoded=le.fit_transform(dataset['Temp'])\n",
        "print(\"Temp:\" ,temp_encoded)\n",
        "\n",
        "humidity_encoded=le.fit_transform(dataset['Humidity'])\n",
        "print(\"Humidity:\" ,humidity_encoded)\n",
        "\n",
        "wind_encoded=le.fit_transform(dataset['Wind'])\n",
        "print(\"Wind:\" ,wind_encoded)\n",
        "\n",
        "play_encoded=le.fit_transform(dataset['Play'])\n",
        "print(\"Play:\" ,play_encoded)"
      ],
      "execution_count": 4,
      "outputs": [
        {
          "output_type": "stream",
          "name": "stdout",
          "text": [
            "Outlook: [1 1 0 2 2 2 0 1 1 2 1 0 0 2]\n",
            "Temp: [1 1 1 2 0 0 0 2 0 2 2 2 1 2]\n",
            "Humidity: [2 0 2 2 2 1 2 2 1 0 0 1 2 2]\n",
            "Wind: [0 1 0 0 0 1 1 0 0 0 1 1 0 1]\n",
            "Play: [0 0 1 1 1 0 1 0 1 1 1 1 1 0]\n"
          ]
        }
      ]
    },
    {
      "cell_type": "code",
      "metadata": {
        "id": "O2DSbiFxbVri",
        "colab": {
          "base_uri": "https://localhost:8080/"
        },
        "outputId": "37fcce41-4572-4d19-f9bb-92adc76c67c3"
      },
      "source": [
        "features=tuple(zip(outlook_encoded,temp_encoded,humidity_encoded,wind_encoded))\n",
        "print(\"Features: \", features)"
      ],
      "execution_count": 5,
      "outputs": [
        {
          "output_type": "stream",
          "name": "stdout",
          "text": [
            "Features:  ((1, 1, 2, 0), (1, 1, 0, 1), (0, 1, 2, 0), (2, 2, 2, 0), (2, 0, 2, 0), (2, 0, 1, 1), (0, 0, 2, 1), (1, 2, 2, 0), (1, 0, 1, 0), (2, 2, 0, 0), (1, 2, 0, 1), (0, 2, 1, 1), (0, 1, 2, 0), (2, 2, 2, 1))\n"
          ]
        }
      ]
    },
    {
      "cell_type": "code",
      "metadata": {
        "colab": {
          "base_uri": "https://localhost:8080/"
        },
        "id": "UR_DtRuxbruC",
        "outputId": "682300e4-2935-4f3d-ceb7-cbb6e7226b47"
      },
      "source": [
        "model = MultinomialNB()\n",
        "\n",
        "# Train the model using the training sets\n",
        "model.fit(features, play_encoded)"
      ],
      "execution_count": 6,
      "outputs": [
        {
          "output_type": "execute_result",
          "data": {
            "text/plain": [
              "MultinomialNB(alpha=1.0, class_prior=None, fit_prior=True)"
            ]
          },
          "metadata": {},
          "execution_count": 6
        }
      ]
    },
    {
      "cell_type": "code",
      "metadata": {
        "colab": {
          "base_uri": "https://localhost:8080/"
        },
        "id": "sedmajjkb2EW",
        "outputId": "c0824ef4-167c-4865-8fa0-82168c1edf84"
      },
      "source": [
        "# Predict Output\n",
        "predicted = model.predict([[1,1,2,0]]) # 1:Overcast, 2:Mild\n",
        "print(\"Predicted Value:\", predicted)"
      ],
      "execution_count": 7,
      "outputs": [
        {
          "output_type": "stream",
          "name": "stdout",
          "text": [
            "Predicted Value: [1]\n"
          ]
        }
      ]
    },
    {
      "cell_type": "code",
      "metadata": {
        "colab": {
          "base_uri": "https://localhost:8080/"
        },
        "id": "4RA_pVL2cAB8",
        "outputId": "4fbdbe36-e8f7-4418-edbd-be146213901f"
      },
      "source": [
        "# Predict Output\n",
        "predicted = model.predict([[1,1,0,1]]) # 0:Overcast, 2:Mild\n",
        "print(\"Predicted Value:\", predicted)"
      ],
      "execution_count": 8,
      "outputs": [
        {
          "output_type": "stream",
          "name": "stdout",
          "text": [
            "Predicted Value: [1]\n"
          ]
        }
      ]
    },
    {
      "cell_type": "code",
      "metadata": {
        "colab": {
          "base_uri": "https://localhost:8080/"
        },
        "id": "9vLExs-ZcOhT",
        "outputId": "ffdcd8e7-3dc2-4f62-9c08-a5fc880370be"
      },
      "source": [
        "# Predict Output\n",
        "predicted = model.predict([[0,1,2,0]]) # 0:Overcast, 2:Mild\n",
        "print(\"Predicted Value:\", predicted)"
      ],
      "execution_count": 9,
      "outputs": [
        {
          "output_type": "stream",
          "name": "stdout",
          "text": [
            "Predicted Value: [1]\n"
          ]
        }
      ]
    }
  ]
}