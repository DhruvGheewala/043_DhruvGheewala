{
  "nbformat": 4,
  "nbformat_minor": 0,
  "metadata": {
    "colab": {
      "name": "KMeans_Clustering_BreastCancer.ipynb",
      "provenance": [],
      "collapsed_sections": [],
      "include_colab_link": true
    },
    "kernelspec": {
      "name": "python3",
      "display_name": "Python 3"
    },
    "language_info": {
      "name": "python"
    }
  },
  "cells": [
    {
      "cell_type": "markdown",
      "metadata": {
        "id": "view-in-github",
        "colab_type": "text"
      },
      "source": [
        "<a href=\"https://colab.research.google.com/github/DhruvGheewala/043_DhruvGheewala/blob/master/Lab8/KMeans_Clustering_BreastCancer.ipynb\" target=\"_parent\"><img src=\"https://colab.research.google.com/assets/colab-badge.svg\" alt=\"Open In Colab\"/></a>"
      ]
    },
    {
      "cell_type": "code",
      "metadata": {
        "id": "Y9eI8rV7DSBD"
      },
      "source": [
        "import numpy as np\n",
        "import pandas as pd\n",
        "from sklearn import datasets\n",
        "from sklearn.cluster import KMeans\n",
        "from sklearn.metrics import accuracy_score, confusion_matrix\n",
        "import matplotlib.pyplot as plt"
      ],
      "execution_count": 12,
      "outputs": []
    },
    {
      "cell_type": "code",
      "metadata": {
        "colab": {
          "base_uri": "https://localhost:8080/"
        },
        "id": "-xHOOElmDTeb",
        "outputId": "31d42185-e676-40d2-b17c-04c699d3b43a"
      },
      "source": [
        "dataset=datasets.load_breast_cancer()\n",
        "dataset\n",
        "\n",
        "print(dataset.data.shape)\n",
        "print(dataset.target.shape)"
      ],
      "execution_count": 13,
      "outputs": [
        {
          "output_type": "stream",
          "name": "stdout",
          "text": [
            "(569, 30)\n",
            "(569,)\n"
          ]
        }
      ]
    },
    {
      "cell_type": "code",
      "metadata": {
        "colab": {
          "base_uri": "https://localhost:8080/"
        },
        "id": "LQGvakurDU7r",
        "outputId": "0cba7ce2-8eb8-40bf-c1c5-c81b43362585"
      },
      "source": [
        "print(dataset.feature_names)"
      ],
      "execution_count": 14,
      "outputs": [
        {
          "output_type": "stream",
          "name": "stdout",
          "text": [
            "['mean radius' 'mean texture' 'mean perimeter' 'mean area'\n",
            " 'mean smoothness' 'mean compactness' 'mean concavity'\n",
            " 'mean concave points' 'mean symmetry' 'mean fractal dimension'\n",
            " 'radius error' 'texture error' 'perimeter error' 'area error'\n",
            " 'smoothness error' 'compactness error' 'concavity error'\n",
            " 'concave points error' 'symmetry error' 'fractal dimension error'\n",
            " 'worst radius' 'worst texture' 'worst perimeter' 'worst area'\n",
            " 'worst smoothness' 'worst compactness' 'worst concavity'\n",
            " 'worst concave points' 'worst symmetry' 'worst fractal dimension']\n"
          ]
        }
      ]
    },
    {
      "cell_type": "code",
      "metadata": {
        "colab": {
          "base_uri": "https://localhost:8080/"
        },
        "id": "yqZPwWdJDWQb",
        "outputId": "7d297ae0-caa4-4785-a96d-8fc13c94477c"
      },
      "source": [
        "print(dataset.target_names)"
      ],
      "execution_count": 15,
      "outputs": [
        {
          "output_type": "stream",
          "name": "stdout",
          "text": [
            "['malignant' 'benign']\n"
          ]
        }
      ]
    },
    {
      "cell_type": "code",
      "metadata": {
        "colab": {
          "base_uri": "https://localhost:8080/",
          "height": 279
        },
        "id": "YKLUqJoyDYFD",
        "outputId": "c333ca9e-d073-49a2-a227-da7e4a9b0df5"
      },
      "source": [
        "# 0 for benign and 1 for malignant\n",
        "\n",
        "plt.scatter(dataset.data[:, 0], dataset.target, c='orange', marker='*')\n",
        "plt.xlabel('Features')\n",
        "plt.ylabel('Type of Cancer')\n",
        "plt.show()"
      ],
      "execution_count": 16,
      "outputs": [
        {
          "output_type": "display_data",
          "data": {
            "image/png": "[encoded data removed]",
            "text/plain": [
              "<Figure size 432x288 with 1 Axes>"
            ]
          },
          "metadata": {
            "needs_background": "light"
          }
        }
      ]
    },
    {
      "cell_type": "code",
      "metadata": {
        "colab": {
          "base_uri": "https://localhost:8080/"
        },
        "id": "nPxnLAgpDczz",
        "outputId": "4499d839-746d-471c-aa47-382736d15f87"
      },
      "source": [
        "kmeans = KMeans(n_clusters=7, random_state=43)\n",
        "prediction = kmeans.fit_predict(dataset.data)\n",
        "print(prediction)"
      ],
      "execution_count": 17,
      "outputs": [
        {
          "output_type": "stream",
          "name": "stdout",
          "text": [
            "[6 6 3 1 3 1 3 5 1 1 0 0 0 5 1 5 0 0 6 1 1 4 5 6 6 0 5 3 0 0 3 5 0 3 0 0 5\n",
            " 1 5 5 5 4 3 5 1 3 4 5 1 1 1 1 1 0 5 1 6 5 1 4 4 4 5 4 5 5 4 4 4 1 3 4 3 5\n",
            " 1 0 1 3 3 1 1 1 2 0 1 3 5 3 1 5 5 5 5 1 5 3 1 4 1 5 5 4 1 4 4 5 1 1 6 1 4\n",
            " 1 5 4 4 1 4 5 0 0 1 3 6 5 1 5 5 3 5 3 1 0 0 5 3 1 1 4 5 4 4 0 1 1 4 1 1 5\n",
            " 5 5 1 4 4 4 1 1 0 0 1 4 1 3 6 1 6 5 4 0 3 5 1 5 0 4 4 4 4 5 1 1 2 6 0 4 5\n",
            " 4 0 1 1 1 5 1 4 1 5 1 5 0 3 5 1 0 6 0 1 5 4 0 1 5 3 1 2 0 5 5 1 4 6 6 1 1\n",
            " 4 0 1 5 4 5 1 1 0 4 4 6 4 5 2 3 5 0 1 1 4 1 3 4 1 1 4 4 6 1 6 0 6 5 6 5 0\n",
            " 5 3 0 0 5 0 2 4 1 1 4 5 4 6 4 0 1 4 0 5 1 3 1 3 0 1 1 1 1 4 4 5 5 1 1 1 1\n",
            " 4 1 5 4 6 1 3 4 4 4 1 4 1 1 4 5 1 4 4 1 1 3 4 1 4 3 1 6 1 1 5 1 0 5 0 1 4\n",
            " 4 1 0 1 3 4 2 5 4 4 3 1 4 1 5 4 1 1 5 2 5 4 1 1 1 4 4 1 1 1 0 1 3 3 1 2 6\n",
            " 0 5 3 6 1 5 4 1 1 4 4 4 1 1 1 5 1 5 4 0 4 4 0 6 1 1 1 1 4 1 0 1 1 1 1 4 5\n",
            " 1 0 1 1 4 4 5 5 1 4 3 1 4 1 5 4 1 4 4 4 4 4 1 5 1 3 3 5 5 1 5 5 1 4 0 1 4\n",
            " 0 1 0 5 5 6 1 3 1 5 1 1 1 1 1 4 3 2 5 1 1 1 1 4 0 1 4 1 5 1 4 1 5 5 4 5 1\n",
            " 5 1 1 5 1 5 3 1 0 1 0 0 1 1 5 1 1 3 3 5 5 1 2 4 4 1 4 5 5 4 5 5 5 5 4 3 3\n",
            " 1 1 4 2 4 1 4 4 1 1 1 1 1 1 5 3 4 3 5 4 4 4 4 5 5 1 1 5 4 4 4 4 4 4 1 4 1\n",
            " 4 4 4 5 4 5 4 5 3 6 3 0 3 4]\n"
          ]
        }
      ]
    },
    {
      "cell_type": "code",
      "metadata": {
        "colab": {
          "base_uri": "https://localhost:8080/"
        },
        "id": "ysFYKizDDeX8",
        "outputId": "7ec9ce3c-4c56-44a2-f3ec-32fed72de941"
      },
      "source": [
        "kmeans.cluster_centers_.shape\n",
        "print(kmeans.cluster_centers_)"
      ],
      "execution_count": 18,
      "outputs": [
        {
          "output_type": "stream",
          "name": "stdout",
          "text": [
            "[[1.69334483e+01 2.10825862e+01 1.11372414e+02 8.94458621e+02\n",
            "  9.97943103e-02 1.30064828e-01 1.34179483e-01 7.75781034e-02\n",
            "  1.88005172e-01 6.09731034e-02 5.31874138e-01 1.25141034e+00\n",
            "  3.81434483e+00 5.72708621e+01 6.55151724e-03 2.96563103e-02\n",
            "  3.72550000e-02 1.45205517e-02 1.91051724e-02 3.94929310e-03\n",
            "  2.01201724e+01 2.85748276e+01 1.33660345e+02 1.24491379e+03\n",
            "  1.38706552e-01 3.20297586e-01 3.79431034e-01 1.63428966e-01\n",
            "  3.12408621e-01 8.54998276e-02]\n",
            " [1.26120219e+01 1.82207650e+01 8.12273770e+01 4.90472678e+02\n",
            "  9.31669399e-02 8.29529508e-02 4.90538579e-02 2.88047377e-02\n",
            "  1.73374317e-01 6.19822404e-02 2.79016393e-01 1.14591803e+00\n",
            "  1.98259508e+00 2.15335355e+01 6.47438798e-03 2.02762842e-02\n",
            "  2.34454038e-02 9.69565574e-03 1.96774317e-02 3.24004098e-03\n",
            "  1.39592350e+01 2.42462295e+01 9.09837158e+01 5.97695082e+02\n",
            "  1.27155137e-01 2.06289016e-01 1.89712754e-01 8.42463989e-02\n",
            "  2.79210383e-01 8.04581421e-02]\n",
            " [2.45981818e+01 2.27290909e+01 1.64181818e+02 1.91300000e+03\n",
            "  1.03649091e-01 1.70829091e-01 2.47209091e-01 1.43200909e-01\n",
            "  1.81654545e-01 5.87154545e-02 1.35242727e+00 1.16268182e+00\n",
            "  9.72090909e+00 2.30309091e+02 6.71336364e-03 3.14645455e-02\n",
            "  4.31036364e-02 1.60718182e-02 1.93036364e-02 3.54445455e-03\n",
            "  3.14572727e+01 2.99572727e+01 2.12781818e+02 3.05581818e+03\n",
            "  1.39772727e-01 3.70072727e-01 4.88136364e-01 2.31190909e-01\n",
            "  2.75718182e-01 8.03945455e-02]\n",
            " [1.93162745e+01 2.18349020e+01 1.27594118e+02 1.16109804e+03\n",
            "  1.00018039e-01 1.46021569e-01 1.72390588e-01 9.75594118e-02\n",
            "  1.93115686e-01 6.02072549e-02 7.04437255e-01 1.23852745e+00\n",
            "  4.92115686e+00 8.52172549e+01 6.77054902e-03 3.23558824e-02\n",
            "  4.40325490e-02 1.61122745e-02 2.17409804e-02 3.87854902e-03\n",
            "  2.32566667e+01 2.89423529e+01 1.55327451e+02 1.64858824e+03\n",
            "  1.39152941e-01 3.56119608e-01 4.47645098e-01 1.86852941e-01\n",
            "  3.15639216e-01 8.54458824e-02]\n",
            " [1.02793622e+01 1.78961417e+01 6.58073228e+01 3.25759055e+02\n",
            "  9.56073228e-02 8.08250394e-02 4.57462575e-02 2.02803937e-02\n",
            "  1.81814961e-01 6.70744094e-02 2.83521260e-01 1.44063543e+00\n",
            "  1.97162913e+00 1.78290630e+01 9.14604724e-03 2.47624016e-02\n",
            "  3.15003205e-02 1.01361654e-02 2.38248031e-02 4.57123622e-03\n",
            "  1.12992047e+01 2.34451181e+01 7.31576378e+01 3.91747244e+02\n",
            "  1.30995748e-01 1.75309370e-01 1.54858921e-01 6.04130709e-02\n",
            "  2.75517323e-01 8.44483465e-02]\n",
            " [1.45526786e+01 1.96112500e+01 9.49333929e+01 6.55141071e+02\n",
            "  9.61539286e-02 1.12237768e-01 9.53406250e-02 5.13930089e-02\n",
            "  1.80797321e-01 6.21617857e-02 3.52959821e-01 1.07909375e+00\n",
            "  2.52739196e+00 3.16436607e+01 6.09416964e-03 2.66429464e-02\n",
            "  3.30080804e-02 1.23642500e-02 1.89806071e-02 3.66444464e-03\n",
            "  1.65946429e+01 2.63019643e+01 1.10037411e+02 8.45149107e+02\n",
            "  1.32014286e-01 2.92695268e-01 3.19477054e-01 1.30077768e-01\n",
            "  2.94672321e-01 8.63120536e-02]\n",
            " [2.06370370e+01 2.16944444e+01 1.37140741e+02 1.33298519e+03\n",
            "  1.05146296e-01 1.66082963e-01 2.13644444e-01 1.17845556e-01\n",
            "  1.94903704e-01 6.13200000e-02 8.25648148e-01 1.12337778e+00\n",
            "  5.75433333e+00 1.11170000e+02 6.60281481e-03 3.48644444e-02\n",
            "  4.73696296e-02 1.57370370e-02 1.87700000e-02 4.05755556e-03\n",
            "  2.62940741e+01 2.91481481e+01 1.75992593e+02 2.12474074e+03\n",
            "  1.46185185e-01 4.09985185e-01 5.37144444e-01 2.22266667e-01\n",
            "  3.22714815e-01 9.06803704e-02]]\n"
          ]
        }
      ]
    },
    {
      "cell_type": "code",
      "metadata": {
        "colab": {
          "base_uri": "https://localhost:8080/",
          "height": 281
        },
        "id": "Si_Ixli6DgCV",
        "outputId": "1a1f4657-4874-4249-81c1-b76494ba5990"
      },
      "source": [
        "plt.scatter(dataset.data[:, 0], dataset.target, c='orange', marker='*')\n",
        "plt.scatter(kmeans.cluster_centers_[:, 0], kmeans.cluster_centers_[:, 1], c='green', marker='+')\n",
        "plt.title('Data points and cluster centroids')\n",
        "plt.show()"
      ],
      "execution_count": 19,
      "outputs": [
        {
          "output_type": "display_data",
          "data": {
            "image/png": "[encoded data removed]",
            "text/plain": [
              "<Figure size 432x288 with 1 Axes>"
            ]
          },
          "metadata": {
            "needs_background": "light"
          }
        }
      ]
    },
    {
      "cell_type": "code",
      "metadata": {
        "id": "d_CxG_zRDnaM"
      },
      "source": [
        "from scipy.stats import mode\n",
        "labels = np.zeros_like(prediction)\n",
        "for i in range(10):\n",
        "  mask = (prediction == i)\n",
        "  labels[mask] = mode(dataset.target[mask])[0]"
      ],
      "execution_count": 20,
      "outputs": []
    },
    {
      "cell_type": "code",
      "metadata": {
        "colab": {
          "base_uri": "https://localhost:8080/"
        },
        "id": "n2xs4KITEKPd",
        "outputId": "9298f458-18d8-48b1-cac8-46607ec36762"
      },
      "source": [
        "accuracy_score(dataset.target, labels)"
      ],
      "execution_count": 21,
      "outputs": [
        {
          "output_type": "execute_result",
          "data": {
            "text/plain": [
              "0.875219683655536"
            ]
          },
          "metadata": {},
          "execution_count": 21
        }
      ]
    },
    {
      "cell_type": "code",
      "metadata": {
        "colab": {
          "base_uri": "https://localhost:8080/",
          "height": 295
        },
        "id": "JIVOhUgID18k",
        "outputId": "34fc6cb9-1b73-4a5e-c26b-e65856aefd41"
      },
      "source": [
        "import seaborn as sns\n",
        "\n",
        "mat = confusion_matrix(dataset.target, labels)\n",
        "ax = sns.heatmap(mat.T, square=True, annot=True, cbar=False, xticklabels=dataset.target_names, yticklabels=dataset.target_names)\n",
        "\n",
        "plt.xlabel('true label')\n",
        "plt.ylabel('predicted label')"
      ],
      "execution_count": 22,
      "outputs": [
        {
          "output_type": "execute_result",
          "data": {
            "text/plain": [
              "Text(91.68, 0.5, 'predicted label')"
            ]
          },
          "metadata": {},
          "execution_count": 22
        },
        {
          "output_type": "display_data",
          "data": {
            "image/png": "[encoded data removed]",
            "text/plain": [
              "<Figure size 432x288 with 1 Axes>"
            ]
          },
          "metadata": {
            "needs_background": "light"
          }
        }
      ]
    }
  ]
}